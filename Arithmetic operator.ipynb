{
  "nbformat": 4,
  "nbformat_minor": 0,
  "metadata": {
    "colab": {
      "provenance": [],
      "authorship_tag": "ABX9TyM9KRvBRZx1qjv3Po63QNfU",
      "include_colab_link": true
    },
    "kernelspec": {
      "name": "python3",
      "display_name": "Python 3"
    },
    "language_info": {
      "name": "python"
    }
  },
  "cells": [
    {
      "cell_type": "markdown",
      "metadata": {
        "id": "view-in-github",
        "colab_type": "text"
      },
      "source": [
        "<a href=\"https://colab.research.google.com/github/syedshagulhameed13102005/Digital_portfolio/blob/main/Arithmetic%20operator.ipynb\" target=\"_parent\"><img src=\"https://colab.research.google.com/assets/colab-badge.svg\" alt=\"Open In Colab\"/></a>"
      ]
    },
    {
      "cell_type": "markdown",
      "source": [
        "Arithmetic operator\n",
        "Addition and subtraction"
      ],
      "metadata": {
        "id": "9m7C3zCtUyQ-"
      }
    },
    {
      "cell_type": "code",
      "source": [
        "# Simple arithmetic addition and subtraction program\n",
        "\n",
        "def add(x, y):\n",
        "    return x + y\n",
        "\n",
        "def subtract(x, y):\n",
        "    return x - y\n",
        "\n",
        "# Take user input for numbers\n",
        "num1 = float(input(\"Enter the first number: \"))\n",
        "num2 = float(input(\"Enter the second number: \"))\n",
        "\n",
        "# Perform addition and subtraction\n",
        "sum_result = add(num1, num2)\n",
        "diff_result = subtract(num1, num2)\n",
        "\n",
        "# Display the results\n",
        "print(f\"The sum of {num1} and {num2} is: {sum_result}\")\n",
        "print(f\"The difference of {num1} and {num2} is: {diff_result}\")"
      ],
      "metadata": {
        "id": "bSq03rL-U3-r",
        "outputId": "cf04653b-8586-4fef-dcdc-89c124fcd836",
        "colab": {
          "base_uri": "https://localhost:8080/"
        }
      },
      "execution_count": 5,
      "outputs": [
        {
          "output_type": "stream",
          "name": "stdout",
          "text": [
            "Enter the first number: 6\n",
            "Enter the second number: 8\n",
            "The sum of 6.0 and 8.0 is: 14.0\n",
            "The difference of 6.0 and 8.0 is: -2.0\n"
          ]
        }
      ]
    }
  ]
}