{
  "nbformat": 4,
  "nbformat_minor": 0,
  "metadata": {
    "colab": {
      "provenance": [],
      "authorship_tag": "ABX9TyOwygV4LiiELNDBY9b/6ODS",
      "include_colab_link": true
    },
    "kernelspec": {
      "name": "python3",
      "display_name": "Python 3"
    },
    "language_info": {
      "name": "python"
    }
  },
  "cells": [
    {
      "cell_type": "markdown",
      "metadata": {
        "id": "view-in-github",
        "colab_type": "text"
      },
      "source": [
        "<a href=\"https://colab.research.google.com/github/syedshagulhameed13102005/Digital_portfolio/blob/main/Comparison.ipynb\" target=\"_parent\"><img src=\"https://colab.research.google.com/assets/colab-badge.svg\" alt=\"Open In Colab\"/></a>"
      ]
    },
    {
      "cell_type": "markdown",
      "source": [
        "Comparison operator"
      ],
      "metadata": {
        "id": "VGgaS-i7WwI3"
      }
    },
    {
      "cell_type": "code",
      "source": [
        "\n",
        "# Simple program to demonstrate comparison operators\n",
        "\n",
        "# Taking two numbers as input from the user\n",
        "num1 = float(input(\"Enter the first number: \"))\n",
        "num2 = float(input(\"Enter the second number: \"))\n",
        "\n",
        "# Using comparison operators\n",
        "print(f\"Is {num1} equal to {num2}? {num1 == num2}\")\n",
        "print(f\"Is {num1} not equal to {num2}? {num1 != num2}\")\n",
        "print(f\"Is {num1} greater than {num2}? {num1 > num2}\")\n",
        "print(f\"Is {num1} less than {num2}? {num1 < num2}\")\n",
        "print(f\"Is {num1} greater than or equal to {num2}? {num1 >= num2}\")\n",
        "print(f\"Is {num1} less than or equal to {num2}? {num1 <= num2}\")"
      ],
      "metadata": {
        "id": "Zs3_GJhsWyPC",
        "outputId": "5fccb2f3-8f4c-4e8f-eece-0ab39152668a",
        "colab": {
          "base_uri": "https://localhost:8080/"
        }
      },
      "execution_count": 9,
      "outputs": [
        {
          "output_type": "stream",
          "name": "stdout",
          "text": [
            "Enter the first number: 8\n",
            "Enter the second number: 5\n",
            "Is 8.0 equal to 5.0? False\n",
            "Is 8.0 not equal to 5.0? True\n",
            "Is 8.0 greater than 5.0? True\n",
            "Is 8.0 less than 5.0? False\n",
            "Is 8.0 greater than or equal to 5.0? True\n",
            "Is 8.0 less than or equal to 5.0? False\n"
          ]
        }
      ]
    }
  ]
}