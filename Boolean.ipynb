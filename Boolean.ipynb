{
  "nbformat": 4,
  "nbformat_minor": 0,
  "metadata": {
    "colab": {
      "provenance": [],
      "authorship_tag": "ABX9TyP7Xro50HfPlp4iZjrcz1Qb",
      "include_colab_link": true
    },
    "kernelspec": {
      "name": "python3",
      "display_name": "Python 3"
    },
    "language_info": {
      "name": "python"
    }
  },
  "cells": [
    {
      "cell_type": "markdown",
      "metadata": {
        "id": "view-in-github",
        "colab_type": "text"
      },
      "source": [
        "<a href=\"https://colab.research.google.com/github/syedshagulhameed13102005/Digital_portfolio/blob/main/Boolean.ipynb\" target=\"_parent\"><img src=\"https://colab.research.google.com/assets/colab-badge.svg\" alt=\"Open In Colab\"/></a>"
      ]
    },
    {
      "cell_type": "markdown",
      "source": [
        "Boolean"
      ],
      "metadata": {
        "id": "758rFXIoTuEx"
      }
    },
    {
      "cell_type": "code",
      "source": [
        "# Define two Boolean variables\n",
        "a = True\n",
        "b = False\n",
        "\n",
        "# AND operation\n",
        "and_result = a and b\n",
        "print(\"AND operation (a and b):\", and_result)\n",
        "\n",
        "# OR operation\n",
        "or_result = a or b\n",
        "print(\"OR operation (a or b):\", or_result)\n",
        "\n",
        "# NOT operation\n",
        "not_result = not a\n",
        "print(\"NOT operation (not a):\", not_result)"
      ],
      "metadata": {
        "colab": {
          "base_uri": "https://localhost:8080/"
        },
        "id": "bUMhNWH_Tvhi",
        "outputId": "20a1c771-e9da-487a-8de5-f78d8baf8ac2"
      },
      "execution_count": 1,
      "outputs": [
        {
          "output_type": "stream",
          "name": "stdout",
          "text": [
            "AND operation (a and b): False\n",
            "OR operation (a or b): True\n",
            "NOT operation (not a): False\n"
          ]
        }
      ]
    }
  ]
}