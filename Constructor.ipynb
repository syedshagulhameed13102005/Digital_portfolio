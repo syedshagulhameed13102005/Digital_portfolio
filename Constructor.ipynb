{
  "nbformat": 4,
  "nbformat_minor": 0,
  "metadata": {
    "colab": {
      "provenance": [],
      "authorship_tag": "ABX9TyP7RvnP1kaJe4tcPrAyFwpW",
      "include_colab_link": true
    },
    "kernelspec": {
      "name": "python3",
      "display_name": "Python 3"
    },
    "language_info": {
      "name": "python"
    }
  },
  "cells": [
    {
      "cell_type": "markdown",
      "metadata": {
        "id": "view-in-github",
        "colab_type": "text"
      },
      "source": [
        "<a href=\"https://colab.research.google.com/github/syedshagulhameed13102005/Digital_portfolio/blob/main/Constructor.ipynb\" target=\"_parent\"><img src=\"https://colab.research.google.com/assets/colab-badge.svg\" alt=\"Open In Colab\"/></a>"
      ]
    },
    {
      "cell_type": "markdown",
      "source": [
        "Constructor"
      ],
      "metadata": {
        "id": "IQNoBplz6VF8"
      }
    },
    {
      "cell_type": "code",
      "source": [
        "class Person:\n",
        "    # Constructor to initialize the object\n",
        "    def __init__(self, name, age):\n",
        "        self.name = name   # Instance variable for name\n",
        "        self.age = age     # Instance variable for age\n",
        "\n",
        "    # Method to display person's details\n",
        "    def introduce(self):\n",
        "        print(f\"Hello, my name is {self.name} and I am {self.age} years old.\")\n",
        "\n",
        "# Creating an object of the class Person\n",
        "person1 = Person(\"Alice\", 30)\n",
        "\n",
        "# Calling the method to introduce the person\n",
        "person1.introduce()"
      ],
      "metadata": {
        "colab": {
          "base_uri": "https://localhost:8080/"
        },
        "id": "JfP03hxT6YSt",
        "outputId": "00730bf7-5c5a-4b3a-f13b-5a5c967b46dc"
      },
      "execution_count": 1,
      "outputs": [
        {
          "output_type": "stream",
          "name": "stdout",
          "text": [
            "Hello, my name is Alice and I am 30 years old.\n"
          ]
        }
      ]
    }
  ]
}