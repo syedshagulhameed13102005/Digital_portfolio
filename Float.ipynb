{
  "nbformat": 4,
  "nbformat_minor": 0,
  "metadata": {
    "colab": {
      "provenance": [],
      "authorship_tag": "ABX9TyOJcaISyU9i4weunL8Hwllm",
      "include_colab_link": true
    },
    "kernelspec": {
      "name": "python3",
      "display_name": "Python 3"
    },
    "language_info": {
      "name": "python"
    }
  },
  "cells": [
    {
      "cell_type": "markdown",
      "metadata": {
        "id": "view-in-github",
        "colab_type": "text"
      },
      "source": [
        "<a href=\"https://colab.research.google.com/github/syedshagulhameed13102005/Digital_portfolio/blob/main/Float.ipynb\" target=\"_parent\"><img src=\"https://colab.research.google.com/assets/colab-badge.svg\" alt=\"Open In Colab\"/></a>"
      ]
    },
    {
      "cell_type": "markdown",
      "source": [
        "Float"
      ],
      "metadata": {
        "id": "yGHAiKsYIIH2"
      }
    },
    {
      "cell_type": "code",
      "source": [
        "# Simple program to demonstrate float\n",
        "num1 = 10.5\n",
        "num2 = 4.2\n",
        "\n",
        "# Performing basic arithmetic with floats\n",
        "sum_result = num1 + num2\n",
        "difference_result = num1 - num2\n",
        "product_result = num1 * num2\n",
        "quotient_result = num1 / num2\n",
        "\n",
        "# Display the results\n",
        "print(f\"Sum: {sum_result}\")\n",
        "print(f\"Difference: {difference_result}\")\n",
        "print(f\"Product: {product_result}\")\n",
        "print(f\"Quotient: {quotient_result}\")"
      ],
      "metadata": {
        "id": "VqVovV9fILDB",
        "outputId": "02e83e41-149f-4270-b099-f4e92f6c8342",
        "colab": {
          "base_uri": "https://localhost:8080/"
        }
      },
      "execution_count": 3,
      "outputs": [
        {
          "output_type": "stream",
          "name": "stdout",
          "text": [
            "Sum: 14.7\n",
            "Difference: 6.3\n",
            "Product: 44.1\n",
            "Quotient: 2.5\n"
          ]
        }
      ]
    }
  ]
}