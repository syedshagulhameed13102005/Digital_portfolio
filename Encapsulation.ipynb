{
  "nbformat": 4,
  "nbformat_minor": 0,
  "metadata": {
    "colab": {
      "provenance": [],
      "authorship_tag": "ABX9TyPtKzFpff7KqAf67eBft1Wn",
      "include_colab_link": true
    },
    "kernelspec": {
      "name": "python3",
      "display_name": "Python 3"
    },
    "language_info": {
      "name": "python"
    }
  },
  "cells": [
    {
      "cell_type": "markdown",
      "metadata": {
        "id": "view-in-github",
        "colab_type": "text"
      },
      "source": [
        "<a href=\"https://colab.research.google.com/github/syedshagulhameed13102005/Digital_portfolio/blob/main/Encapsulation.ipynb\" target=\"_parent\"><img src=\"https://colab.research.google.com/assets/colab-badge.svg\" alt=\"Open In Colab\"/></a>"
      ]
    },
    {
      "cell_type": "markdown",
      "source": [
        "Encapsulation"
      ],
      "metadata": {
        "id": "R6it_r8w5MQ_"
      }
    },
    {
      "cell_type": "code",
      "source": [
        "class Person:\n",
        "    # Constructor to initialize the name and age\n",
        "    def __init__(self, name, age):\n",
        "        self.__name = name  # private attribute\n",
        "        self.__age = age    # private attribute\n",
        "\n",
        "    # Public method to get the name\n",
        "    def get_name(self):\n",
        "        return self.__name\n",
        "\n",
        "    # Public method to set the name\n",
        "    def set_name(self, name):\n",
        "        self.__name = name\n",
        "\n",
        "    # Public method to get the age\n",
        "    def get_age(self):\n",
        "        return self.__age\n",
        "\n",
        "    # Public method to set the age\n",
        "    def set_age(self, age):\n",
        "        if age > 0:  # validating the age\n",
        "            self.__age = age\n",
        "        else:\n",
        "            print(\"Age must be positive.\")\n",
        "\n",
        "# Creating a Person object\n",
        "person1 = Person(\"John\", 25)\n",
        "\n",
        "# Accessing and modifying data through methods\n",
        "print(person1.get_name())  # Output: John\n",
        "print(person1.get_age())   # Output: 25\n",
        "\n",
        "person1.set_name(\"Alice\")  # Changing name to Alice\n",
        "person1.set_age(30)        # Changing age to 30\n",
        "\n",
        "print(person1.get_name())  # Output: Alice\n",
        "print(person1.get_age())   # Output: 30"
      ],
      "metadata": {
        "id": "VuGHZ19p5Nu0",
        "outputId": "257dd636-880c-4a99-e2e9-b85f83725e62",
        "colab": {
          "base_uri": "https://localhost:8080/"
        }
      },
      "execution_count": 1,
      "outputs": [
        {
          "output_type": "stream",
          "name": "stdout",
          "text": [
            "John\n",
            "25\n",
            "Alice\n",
            "30\n"
          ]
        }
      ]
    }
  ]
}