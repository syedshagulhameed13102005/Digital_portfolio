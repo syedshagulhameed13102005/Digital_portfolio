{
  "nbformat": 4,
  "nbformat_minor": 0,
  "metadata": {
    "colab": {
      "provenance": [],
      "authorship_tag": "ABX9TyOapg9YShBWUMgYv6BAd8/O",
      "include_colab_link": true
    },
    "kernelspec": {
      "name": "python3",
      "display_name": "Python 3"
    },
    "language_info": {
      "name": "python"
    }
  },
  "cells": [
    {
      "cell_type": "markdown",
      "metadata": {
        "id": "view-in-github",
        "colab_type": "text"
      },
      "source": [
        "<a href=\"https://colab.research.google.com/github/syedshagulhameed13102005/Digital_portfolio/blob/main/Lamda%20function.ipynb\" target=\"_parent\"><img src=\"https://colab.research.google.com/assets/colab-badge.svg\" alt=\"Open In Colab\"/></a>"
      ]
    },
    {
      "cell_type": "markdown",
      "source": [
        "Lamda function"
      ],
      "metadata": {
        "id": "IiIqc_E0_VS8"
      }
    },
    {
      "cell_type": "code",
      "source": [
        "\n",
        "# A simple program using lambda function\n",
        "# The lambda function will add two numbers\n",
        "\n",
        "add_numbers = lambda x, y: x + y\n",
        "\n",
        "# Testing the lambda function\n",
        "num1 = 5\n",
        "num2 = 3\n",
        "\n",
        "result = add_numbers(num1, num2)\n",
        "print(f\"The sum of {num1} and {num2} is {result}\")"
      ],
      "metadata": {
        "id": "7zGplCwm_YJU",
        "outputId": "76527743-7842-4691-c8b2-553094ba4f31",
        "colab": {
          "base_uri": "https://localhost:8080/"
        }
      },
      "execution_count": 8,
      "outputs": [
        {
          "output_type": "stream",
          "name": "stdout",
          "text": [
            "The sum of 5 and 3 is 8\n"
          ]
        }
      ]
    }
  ]
}