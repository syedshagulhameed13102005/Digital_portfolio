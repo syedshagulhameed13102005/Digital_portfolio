{
  "nbformat": 4,
  "nbformat_minor": 0,
  "metadata": {
    "colab": {
      "provenance": [],
      "authorship_tag": "ABX9TyMWhlMUYheNl79fa6+GLh3V",
      "include_colab_link": true
    },
    "kernelspec": {
      "name": "python3",
      "display_name": "Python 3"
    },
    "language_info": {
      "name": "python"
    }
  },
  "cells": [
    {
      "cell_type": "markdown",
      "metadata": {
        "id": "view-in-github",
        "colab_type": "text"
      },
      "source": [
        "<a href=\"https://colab.research.google.com/github/syedshagulhameed13102005/Digital_portfolio/blob/main/Feature%20engineering.ipynb\" target=\"_parent\"><img src=\"https://colab.research.google.com/assets/colab-badge.svg\" alt=\"Open In Colab\"/></a>"
      ]
    },
    {
      "cell_type": "markdown",
      "source": [
        "Feature engineering"
      ],
      "metadata": {
        "id": "VfNW80qBVwl1"
      }
    },
    {
      "cell_type": "code",
      "source": [
        "import pandas as pd\n",
        "\n",
        "# Create a sample DataFrame\n",
        "data = {\n",
        "    \"Name\": [\"John\", \"Mary\", \"David\", \"Emily\"],\n",
        "    \"Age\": [25, 31, 42, 28],\n",
        "    \"City\": [\"New York\", \"Los Angeles\", \"Chicago\", \"New York\"]\n",
        "}\n",
        "df = pd.DataFrame(data)\n",
        "\n",
        "# Feature engineering: Create a new feature \"Age Group\"\n",
        "df[\"Age Group\"] = pd.cut(df[\"Age\"], bins=[0, 30, 50], labels=[\"Young\", \"Adult\"])\n",
        "\n",
        "# Feature engineering: Create a new feature \"City Code\"\n",
        "city_codes = {\"New York\": 1, \"Los Angeles\": 2, \"Chicago\": 3}\n",
        "df[\"City Code\"] = df[\"City\"].map(city_codes)\n",
        "\n",
        "print(df)"
      ],
      "metadata": {
        "id": "mOqSi7x_VxqD",
        "outputId": "c68880b0-836b-42ab-cdaf-f506385970bb",
        "colab": {
          "base_uri": "https://localhost:8080/"
        }
      },
      "execution_count": 3,
      "outputs": [
        {
          "output_type": "stream",
          "name": "stdout",
          "text": [
            "    Name  Age         City Age Group  City Code\n",
            "0   John   25     New York     Young          1\n",
            "1   Mary   31  Los Angeles     Adult          2\n",
            "2  David   42      Chicago     Adult          3\n",
            "3  Emily   28     New York     Young          1\n"
          ]
        }
      ]
    }
  ]
}