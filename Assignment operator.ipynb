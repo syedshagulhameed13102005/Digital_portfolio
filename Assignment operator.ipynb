{
  "nbformat": 4,
  "nbformat_minor": 0,
  "metadata": {
    "colab": {
      "provenance": [],
      "authorship_tag": "ABX9TyOE3OLcssjE/hMt1zgpkhvn",
      "include_colab_link": true
    },
    "kernelspec": {
      "name": "python3",
      "display_name": "Python 3"
    },
    "language_info": {
      "name": "python"
    }
  },
  "cells": [
    {
      "cell_type": "markdown",
      "metadata": {
        "id": "view-in-github",
        "colab_type": "text"
      },
      "source": [
        "<a href=\"https://colab.research.google.com/github/syedshagulhameed13102005/Digital_portfolio/blob/main/Assignment%20operator.ipynb\" target=\"_parent\"><img src=\"https://colab.research.google.com/assets/colab-badge.svg\" alt=\"Open In Colab\"/></a>"
      ]
    },
    {
      "cell_type": "markdown",
      "source": [
        "Assignment operator (multiplication and division equal to)"
      ],
      "metadata": {
        "id": "o4qw3ENjVkk_"
      }
    },
    {
      "cell_type": "code",
      "source": [
        "# Multiplication and Division using assignment operators\n",
        "\n",
        "# Initialize two numbers\n",
        "num1 = 10\n",
        "num2 = 5\n",
        "\n",
        "# Multiplication\n",
        "num1 *= num2  # Same as num1 = num1 * num2\n",
        "print(\"Multiplication result:\", num1)\n",
        "\n",
        "# Division\n",
        "num1 = 10  # Reset num1 back to its original value\n",
        "num1 /= num2  # Same as num1 = num1 / num2\n",
        "print(\"Division result:\", num1)"
      ],
      "metadata": {
        "id": "tCdGG4zPVr7T",
        "outputId": "fbe647ce-deee-4666-d9b0-62ccc8a9e9a5",
        "colab": {
          "base_uri": "https://localhost:8080/"
        }
      },
      "execution_count": 6,
      "outputs": [
        {
          "output_type": "stream",
          "name": "stdout",
          "text": [
            "Multiplication result: 50\n",
            "Division result: 2.0\n"
          ]
        }
      ]
    }
  ]
}