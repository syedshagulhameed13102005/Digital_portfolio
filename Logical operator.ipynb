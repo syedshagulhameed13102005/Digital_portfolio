{
  "nbformat": 4,
  "nbformat_minor": 0,
  "metadata": {
    "colab": {
      "provenance": [],
      "authorship_tag": "ABX9TyN3ISr9TBBzrY2S9CNCH5G/",
      "include_colab_link": true
    },
    "kernelspec": {
      "name": "python3",
      "display_name": "Python 3"
    },
    "language_info": {
      "name": "python"
    }
  },
  "cells": [
    {
      "cell_type": "markdown",
      "metadata": {
        "id": "view-in-github",
        "colab_type": "text"
      },
      "source": [
        "<a href=\"https://colab.research.google.com/github/syedshagulhameed13102005/Digital_portfolio/blob/main/Logical%20operator.ipynb\" target=\"_parent\"><img src=\"https://colab.research.google.com/assets/colab-badge.svg\" alt=\"Open In Colab\"/></a>"
      ]
    },
    {
      "cell_type": "markdown",
      "source": [
        "Logical operator"
      ],
      "metadata": {
        "id": "OqrbS7ZaXUCJ"
      }
    },
    {
      "cell_type": "code",
      "source": [
        "# Define two boolean variables\n",
        "a = True\n",
        "b = False\n",
        "\n",
        "# Using AND operator\n",
        "if a and b:\n",
        "    print(\"Both a and b are True\")\n",
        "else:\n",
        "    print(\"At least one of a or b is False\")\n",
        "\n",
        "# Using OR operator\n",
        "if a or b:\n",
        "    print(\"At least one of a or b is True\")\n",
        "else:\n",
        "    print(\"Both a and b are False\")"
      ],
      "metadata": {
        "id": "qtH4IUgvXXAM",
        "outputId": "aafb030d-f9bd-4fa8-c6fd-81f89aea6582",
        "colab": {
          "base_uri": "https://localhost:8080/"
        }
      },
      "execution_count": 10,
      "outputs": [
        {
          "output_type": "stream",
          "name": "stdout",
          "text": [
            "At least one of a or b is False\n",
            "At least one of a or b is True\n"
          ]
        }
      ]
    }
  ]
}