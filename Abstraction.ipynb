{
  "nbformat": 4,
  "nbformat_minor": 0,
  "metadata": {
    "colab": {
      "provenance": [],
      "authorship_tag": "ABX9TyN9+wviKrg9OPxiKgIOWD0E",
      "include_colab_link": true
    },
    "kernelspec": {
      "name": "python3",
      "display_name": "Python 3"
    },
    "language_info": {
      "name": "python"
    }
  },
  "cells": [
    {
      "cell_type": "markdown",
      "metadata": {
        "id": "view-in-github",
        "colab_type": "text"
      },
      "source": [
        "<a href=\"https://colab.research.google.com/github/syedshagulhameed13102005/Digital_portfolio/blob/main/Abstraction.ipynb\" target=\"_parent\"><img src=\"https://colab.research.google.com/assets/colab-badge.svg\" alt=\"Open In Colab\"/></a>"
      ]
    },
    {
      "cell_type": "markdown",
      "source": [
        "Abstraction"
      ],
      "metadata": {
        "id": "LnMSUtkUZOru"
      }
    },
    {
      "cell_type": "code",
      "source": [
        "from abc import ABC, abstractmethod\n",
        "\n",
        "# Abstract class\n",
        "class Animal(ABC):\n",
        "\n",
        "    @abstractmethod\n",
        "    def make_sound(self):\n",
        "        pass\n",
        "\n",
        "    @abstractmethod\n",
        "    def move(self):\n",
        "        pass\n",
        "\n",
        "# Subclass 1: Dog\n",
        "class Dog(Animal):\n",
        "    def make_sound(self):\n",
        "        return \"Woof\"\n",
        "\n",
        "    def move(self):\n",
        "        return \"The dog runs\"\n",
        "\n",
        "# Subclass 2: Cat\n",
        "class Cat(Animal):\n",
        "    def make_sound(self):\n",
        "        return \"Meow\"\n",
        "\n",
        "    def move(self):\n",
        "        return \"The cat leaps\"\n",
        "\n",
        "# Creating objects of Dog and Cat\n",
        "dog = Dog()\n",
        "cat = Cat()\n",
        "\n",
        "# Using the abstract methods\n",
        "print(dog.make_sound())  # Output: Woof\n",
        "print(dog.move())        # Output: The dog runs\n",
        "\n",
        "print(cat.make_sound())  # Output: Meow\n",
        "print(cat.move())        # Output: The cat leaps"
      ],
      "metadata": {
        "id": "7T0MX2OrZQoA",
        "outputId": "d715d980-105b-40ba-efa1-89e645e36444",
        "colab": {
          "base_uri": "https://localhost:8080/"
        }
      },
      "execution_count": 13,
      "outputs": [
        {
          "output_type": "stream",
          "name": "stdout",
          "text": [
            "Woof\n",
            "The dog runs\n",
            "Meow\n",
            "The cat leaps\n"
          ]
        }
      ]
    }
  ]
}