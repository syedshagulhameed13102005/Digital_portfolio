{
  "nbformat": 4,
  "nbformat_minor": 0,
  "metadata": {
    "colab": {
      "provenance": [],
      "authorship_tag": "ABX9TyNu0WSvYLy5C0AYqKiCvmEk",
      "include_colab_link": true
    },
    "kernelspec": {
      "name": "python3",
      "display_name": "Python 3"
    },
    "language_info": {
      "name": "python"
    }
  },
  "cells": [
    {
      "cell_type": "markdown",
      "metadata": {
        "id": "view-in-github",
        "colab_type": "text"
      },
      "source": [
        "<a href=\"https://colab.research.google.com/github/syedshagulhameed13102005/Digital_portfolio/blob/main/Feature%20engineering%202.ipynb\" target=\"_parent\"><img src=\"https://colab.research.google.com/assets/colab-badge.svg\" alt=\"Open In Colab\"/></a>"
      ]
    },
    {
      "cell_type": "markdown",
      "source": [
        "Feature engineering 2"
      ],
      "metadata": {
        "id": "bOr2sf9sWb0G"
      }
    },
    {
      "cell_type": "code",
      "source": [
        "\n",
        "import pandas as pd\n",
        "from sklearn.model_selection import train_test_split\n",
        "from sklearn.linear_model import LinearRegression\n",
        "\n",
        "# Sample data (city, building type, size, age)\n",
        "data = {\n",
        "    \"City\": [\"New York\", \"Los Angeles\", \"Chicago\", \"New York\", \"Los Angeles\"],\n",
        "    \"Building Type\": [\"Residential\", \"Commercial\", \"Industrial\", \"Residential\", \"Commercial\"],\n",
        "    \"Size\": [1000, 2000, 1500, 1200, 2500],\n",
        "    \"Age\": [10, 20, 15, 12, 25],\n",
        "    \"Number of Buildings\": [50, 100, 75, 60, 120]\n",
        "}\n",
        "\n",
        "df = pd.DataFrame(data)\n",
        "\n",
        "# Define features (X) and target variable (y)\n",
        "X = df[[\"Size\", \"Age\"]]\n",
        "y = df[\"Number of Buildings\"]\n",
        "\n",
        "# Split data into training and testing sets\n",
        "X_train, X_test, y_train, y_test = train_test_split(X, y, test_size=0.2, random_state=42)\n",
        "\n",
        "# Create and fit the model\n",
        "model = LinearRegression()\n",
        "model.fit(X_train, y_train)\n",
        "\n",
        "# Make predictions\n",
        "predictions = model.predict(X_test)\n",
        "print(predictions)"
      ],
      "metadata": {
        "id": "9szsUwsFWeis",
        "outputId": "93a60c96-2223-44f8-9de0-507c34c1c8ec",
        "colab": {
          "base_uri": "https://localhost:8080/"
        }
      },
      "execution_count": 3,
      "outputs": [
        {
          "output_type": "stream",
          "name": "stdout",
          "text": [
            "[97.14285714]\n"
          ]
        }
      ]
    }
  ]
}