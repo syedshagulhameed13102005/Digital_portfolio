{
  "nbformat": 4,
  "nbformat_minor": 0,
  "metadata": {
    "colab": {
      "provenance": [],
      "authorship_tag": "ABX9TyOKrUEO7voFdh2JaUfd9hog",
      "include_colab_link": true
    },
    "kernelspec": {
      "name": "python3",
      "display_name": "Python 3"
    },
    "language_info": {
      "name": "python"
    }
  },
  "cells": [
    {
      "cell_type": "markdown",
      "metadata": {
        "id": "view-in-github",
        "colab_type": "text"
      },
      "source": [
        "<a href=\"https://colab.research.google.com/github/syedshagulhameed13102005/Digital_portfolio/blob/main/Aadhar%20fill%20up%20form.ipynb\" target=\"_parent\"><img src=\"https://colab.research.google.com/assets/colab-badge.svg\" alt=\"Open In Colab\"/></a>"
      ]
    },
    {
      "cell_type": "markdown",
      "source": [
        "Aadhar fill up form"
      ],
      "metadata": {
        "id": "E3aCufqEYGBx"
      }
    },
    {
      "cell_type": "code",
      "source": [
        "\n",
        "class AadhaarForm:\n",
        "    def __init__(self):\n",
        "        self.name = \"\"\n",
        "        self.date_of_birth = \"\"\n",
        "        self.address = \"\"\n",
        "        self.mobile_number = \"\"\n",
        "        self.email = \"\"\n",
        "\n",
        "    def fill_form(self):\n",
        "        self.name = input(\"Enter your full name: \")\n",
        "        self.date_of_birth = input(\"Enter your date of birth (DD/MM/YYYY): \")\n",
        "        self.address = input(\"Enter your address: \")\n",
        "        self.mobile_number = input(\"Enter your mobile number: \")\n",
        "        self.email = input(\"Enter your email ID: \")\n",
        "\n",
        "    def display_form(self):\n",
        "        print(\"\\nAadhaar Form Details:\")\n",
        "        print(\"------------------------\")\n",
        "        print(\"Name:\", self.name)\n",
        "        print(\"Date of Birth:\", self.date_of_birth)\n",
        "        print(\"Address:\", self.address)\n",
        "        print(\"Mobile Number:\", self.mobile_number)\n",
        "        print(\"Email ID:\", self.email)\n",
        "\n",
        "# Create an instance of AadhaarForm\n",
        "aadhaar_form = AadhaarForm()\n",
        "\n",
        "# Fill up the form\n",
        "aadhaar_form.fill_form()\n",
        "\n",
        "# Display the form details\n",
        "aadhaar_form.display_form()"
      ],
      "metadata": {
        "id": "POwFZxzVYIfW",
        "outputId": "a91ec606-7cc8-415e-f106-c995c4991348",
        "colab": {
          "base_uri": "https://localhost:8080/"
        }
      },
      "execution_count": 1,
      "outputs": [
        {
          "output_type": "stream",
          "name": "stdout",
          "text": [
            "Enter your full name: Syed\n",
            "Enter your date of birth (DD/MM/YYYY): 13.10.2005\n",
            "Enter your address: XXXXXXX\n",
            "Enter your mobile number: 9867098723\n",
            "Enter your email ID: syed13@gmail.com\n",
            "\n",
            "Aadhaar Form Details:\n",
            "------------------------\n",
            "Name: Syed\n",
            "Date of Birth: 13.10.2005\n",
            "Address: XXXXXXX\n",
            "Mobile Number: 9867098723\n",
            "Email ID: syed13@gmail.com\n"
          ]
        }
      ]
    }
  ]
}