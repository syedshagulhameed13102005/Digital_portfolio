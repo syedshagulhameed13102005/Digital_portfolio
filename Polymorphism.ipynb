{
  "nbformat": 4,
  "nbformat_minor": 0,
  "metadata": {
    "colab": {
      "provenance": [],
      "authorship_tag": "ABX9TyP5ebsFkck7ycxNKho+yPyE",
      "include_colab_link": true
    },
    "kernelspec": {
      "name": "python3",
      "display_name": "Python 3"
    },
    "language_info": {
      "name": "python"
    }
  },
  "cells": [
    {
      "cell_type": "markdown",
      "metadata": {
        "id": "view-in-github",
        "colab_type": "text"
      },
      "source": [
        "<a href=\"https://colab.research.google.com/github/syedshagulhameed13102005/Digital_portfolio/blob/main/Polymorphism.ipynb\" target=\"_parent\"><img src=\"https://colab.research.google.com/assets/colab-badge.svg\" alt=\"Open In Colab\"/></a>"
      ]
    },
    {
      "cell_type": "markdown",
      "source": [
        "Polymorphism"
      ],
      "metadata": {
        "id": "gpiTkF0pYzWj"
      }
    },
    {
      "cell_type": "code",
      "source": [
        "class Animal:\n",
        "    def speak(self):\n",
        "        print(\"The animal makes a sound\")\n",
        "\n",
        "class Dog(Animal):\n",
        "    def speak(self):\n",
        "        print(\"The dog barks\")\n",
        "\n",
        "class Cat(Animal):\n",
        "    def speak(self):\n",
        "        print(\"The cat meows\")\n",
        "\n",
        "# Create objects of Dog and Cat\n",
        "animal1 = Dog()\n",
        "animal2 = Cat()\n",
        "\n",
        "# Call the same method on different objects\n",
        "animal1.speak()  # Output: The dog barks\n",
        "animal2.speak()  # Output: The cat meows"
      ],
      "metadata": {
        "id": "9fWZYEZqY2LJ",
        "outputId": "43c70487-6b3f-45a4-9786-8ebde81abc80",
        "colab": {
          "base_uri": "https://localhost:8080/"
        }
      },
      "execution_count": 12,
      "outputs": [
        {
          "output_type": "stream",
          "name": "stdout",
          "text": [
            "The dog barks\n",
            "The cat meows\n"
          ]
        }
      ]
    }
  ]
}