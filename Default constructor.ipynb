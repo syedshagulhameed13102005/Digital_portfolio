{
  "nbformat": 4,
  "nbformat_minor": 0,
  "metadata": {
    "colab": {
      "provenance": [],
      "authorship_tag": "ABX9TyMNNZkwBUbPDVgHaWqYNEl2",
      "include_colab_link": true
    },
    "kernelspec": {
      "name": "python3",
      "display_name": "Python 3"
    },
    "language_info": {
      "name": "python"
    }
  },
  "cells": [
    {
      "cell_type": "markdown",
      "metadata": {
        "id": "view-in-github",
        "colab_type": "text"
      },
      "source": [
        "<a href=\"https://colab.research.google.com/github/syedshagulhameed13102005/Digital_portfolio/blob/main/Default%20constructor.ipynb\" target=\"_parent\"><img src=\"https://colab.research.google.com/assets/colab-badge.svg\" alt=\"Open In Colab\"/></a>"
      ]
    },
    {
      "cell_type": "markdown",
      "source": [
        "Default constructor"
      ],
      "metadata": {
        "id": "Q_cKSIGpO6__"
      }
    },
    {
      "cell_type": "code",
      "source": [
        "\n",
        "class Person:\n",
        "    def __init__(self):\n",
        "        print(\"Default constructor called\")\n",
        "        self.name = \"Syed\"\n",
        "        self.age = 20\n",
        "\n",
        "# Create an object\n",
        "person = Person()\n",
        "\n",
        "# Access attributes\n",
        "print(\"Name:\", person.name)\n",
        "print(\"Age:\", person.age)"
      ],
      "metadata": {
        "id": "eFZeHWw8O8Sj",
        "outputId": "2e0a8fa0-1a47-45ec-f2f8-324501a7aa70",
        "colab": {
          "base_uri": "https://localhost:8080/"
        }
      },
      "execution_count": 1,
      "outputs": [
        {
          "output_type": "stream",
          "name": "stdout",
          "text": [
            "Default constructor called\n",
            "Name: Syed\n",
            "Age: 20\n"
          ]
        }
      ]
    }
  ]
}