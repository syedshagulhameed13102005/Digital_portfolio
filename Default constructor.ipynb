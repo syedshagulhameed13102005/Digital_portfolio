{
  "nbformat": 4,
  "nbformat_minor": 0,
  "metadata": {
    "colab": {
      "provenance": [],
      "authorship_tag": "ABX9TyNGYfuyd4FmudA26857Sgmr",
      "include_colab_link": true
    },
    "kernelspec": {
      "name": "python3",
      "display_name": "Python 3"
    },
    "language_info": {
      "name": "python"
    }
  },
  "cells": [
    {
      "cell_type": "markdown",
      "metadata": {
        "id": "view-in-github",
        "colab_type": "text"
      },
      "source": [
        "<a href=\"https://colab.research.google.com/github/syedshagulhameed13102005/Digital_portfolio/blob/main/Default%20constructor.ipynb\" target=\"_parent\"><img src=\"https://colab.research.google.com/assets/colab-badge.svg\" alt=\"Open In Colab\"/></a>"
      ]
    },
    {
      "cell_type": "markdown",
      "source": [
        "Default constructor"
      ],
      "metadata": {
        "id": "7Stb34xy-Zlo"
      }
    },
    {
      "cell_type": "code",
      "source": [
        "\n",
        "class Person:\n",
        "    def __init__(self):\n",
        "        print(\"Default constructor called\")\n",
        "        self.name = \"Syec\"\n",
        "        self.age = 20\n",
        "\n",
        "# Create an object\n",
        "person = Person()\n",
        "\n",
        "# Access attributes\n",
        "print(\"Name:\", person.name)\n",
        "print(\"Age:\", person.age)"
      ],
      "metadata": {
        "id": "xO0JiuTQOEzb",
        "outputId": "d1dfc40c-0e68-45b7-8f31-989af286817b",
        "colab": {
          "base_uri": "https://localhost:8080/"
        }
      },
      "execution_count": 2,
      "outputs": [
        {
          "output_type": "stream",
          "name": "stdout",
          "text": [
            "Default constructor called\n",
            "Name: Syec\n",
            "Age: 20\n"
          ]
        }
      ]
    }
  ]
}