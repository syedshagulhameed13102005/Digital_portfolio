{
  "nbformat": 4,
  "nbformat_minor": 0,
  "metadata": {
    "colab": {
      "provenance": [],
      "authorship_tag": "ABX9TyM3/6+dDmoPrU5fQGb96Msm",
      "include_colab_link": true
    },
    "kernelspec": {
      "name": "python3",
      "display_name": "Python 3"
    },
    "language_info": {
      "name": "python"
    }
  },
  "cells": [
    {
      "cell_type": "markdown",
      "metadata": {
        "id": "view-in-github",
        "colab_type": "text"
      },
      "source": [
        "<a href=\"https://colab.research.google.com/github/syedshagulhameed13102005/Digital_portfolio/blob/main/Decorder.ipynb\" target=\"_parent\"><img src=\"https://colab.research.google.com/assets/colab-badge.svg\" alt=\"Open In Colab\"/></a>"
      ]
    },
    {
      "cell_type": "markdown",
      "source": [
        "Decorder"
      ],
      "metadata": {
        "id": "JMe450509jBN"
      }
    },
    {
      "cell_type": "code",
      "source": [
        "\n",
        "def caesar_cipher_decoder(encoded_text, shift):\n",
        "    decoded_text = \"\"\n",
        "\n",
        "    for char in encoded_text:\n",
        "        if char.isalpha():  # Check if the character is a letter\n",
        "            shift_base = 65 if char.isupper() else 97  # Uppercase vs lowercase letters\n",
        "            decoded_text += chr((ord(char) - shift_base - shift) % 26 + shift_base)\n",
        "        else:\n",
        "            decoded_text += char  # Non-alphabet characters remain the same\n",
        "\n",
        "    return decoded_text\n",
        "\n",
        "# Example usage:\n",
        "encoded_message = \"Uifsf jt b tfdsfu dpef!\"\n",
        "shift = 1  # The number of positions each letter was shifted\n",
        "decoded_message = caesar_cipher_decoder(encoded_message, shift)\n",
        "\n",
        "print(\"Encoded Message:\", encoded_message)\n",
        "print(\"Decoded Message:\", decoded_message)"
      ],
      "metadata": {
        "id": "vnOTwW8h9lb9",
        "outputId": "db3c7afe-d1f9-46ed-be9a-47ebb90601de",
        "colab": {
          "base_uri": "https://localhost:8080/"
        }
      },
      "execution_count": 6,
      "outputs": [
        {
          "output_type": "stream",
          "name": "stdout",
          "text": [
            "Encoded Message: Uifsf jt b tfdsfu dpef!\n",
            "Decoded Message: There is a secret code!\n"
          ]
        }
      ]
    }
  ]
}