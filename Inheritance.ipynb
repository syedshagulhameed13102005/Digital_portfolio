{
  "nbformat": 4,
  "nbformat_minor": 0,
  "metadata": {
    "colab": {
      "provenance": [],
      "authorship_tag": "ABX9TyO7NMYhyxXo4AHnMJyjnpAX",
      "include_colab_link": true
    },
    "kernelspec": {
      "name": "python3",
      "display_name": "Python 3"
    },
    "language_info": {
      "name": "python"
    }
  },
  "cells": [
    {
      "cell_type": "markdown",
      "metadata": {
        "id": "view-in-github",
        "colab_type": "text"
      },
      "source": [
        "<a href=\"https://colab.research.google.com/github/syedshagulhameed13102005/Digital_portfolio/blob/main/Inheritance.ipynb\" target=\"_parent\"><img src=\"https://colab.research.google.com/assets/colab-badge.svg\" alt=\"Open In Colab\"/></a>"
      ]
    },
    {
      "cell_type": "markdown",
      "source": [
        "Inheritance"
      ],
      "metadata": {
        "id": "CySNtZStYOlN"
      }
    },
    {
      "cell_type": "code",
      "source": [
        "# Base class (Parent class)\n",
        "class Animal:\n",
        "    def __init__(self, name):\n",
        "        self.name = name\n",
        "\n",
        "    def speak(self):\n",
        "        return f\"{self.name} makes a sound.\"\n",
        "\n",
        "# Derived class (Child class)\n",
        "class Dog(Animal):\n",
        "    def __init__(self, name, breed):\n",
        "        super().__init__(name)  # Call the constructor of the parent class\n",
        "        self.breed = breed\n",
        "\n",
        "    def speak(self):\n",
        "        return f\"{self.name} barks.\"\n",
        "\n",
        "# Another derived class (Child class)\n",
        "class Cat(Animal):\n",
        "    def __init__(self, name, color):\n",
        "        super().__init__(name)\n",
        "        self.color = color\n",
        "\n",
        "    def speak(self):\n",
        "        return f\"{self.name} meows.\"\n",
        "\n",
        "# Create objects of derived classes\n",
        "dog = Dog(\"Buddy\", \"Golden Retriever\")\n",
        "cat = Cat(\"Whiskers\", \"Gray\")\n",
        "\n",
        "# Call methods\n",
        "print(dog.speak())  # Output: Buddy barks.\n",
        "print(cat.speak())  # Output: Whiskers meows."
      ],
      "metadata": {
        "id": "SQPpYjLiYQC4",
        "outputId": "50fc3336-1069-4129-89b5-fc25c696e5fa",
        "colab": {
          "base_uri": "https://localhost:8080/"
        }
      },
      "execution_count": 11,
      "outputs": [
        {
          "output_type": "stream",
          "name": "stdout",
          "text": [
            "Buddy barks.\n",
            "Whiskers meows.\n"
          ]
        }
      ]
    }
  ]
}