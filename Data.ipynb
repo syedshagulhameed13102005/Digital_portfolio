{
  "nbformat": 4,
  "nbformat_minor": 0,
  "metadata": {
    "colab": {
      "provenance": [],
      "authorship_tag": "ABX9TyMeV+uNXigLHgifjALP3xkz",
      "include_colab_link": true
    },
    "kernelspec": {
      "name": "python3",
      "display_name": "Python 3"
    },
    "language_info": {
      "name": "python"
    }
  },
  "cells": [
    {
      "cell_type": "markdown",
      "metadata": {
        "id": "view-in-github",
        "colab_type": "text"
      },
      "source": [
        "<a href=\"https://colab.research.google.com/github/syedshagulhameed13102005/Digital_portfolio/blob/main/Data.ipynb\" target=\"_parent\"><img src=\"https://colab.research.google.com/assets/colab-badge.svg\" alt=\"Open In Colab\"/></a>"
      ]
    },
    {
      "cell_type": "markdown",
      "source": [
        "Data types\n",
        "Integer"
      ],
      "metadata": {
        "id": "7Stb34xy-Zlo"
      }
    },
    {
      "cell_type": "code",
      "source": [
        "# String Program\n",
        "\n",
        "def main():\n",
        "    # String declaration\n",
        "    name = \"John Doe\"\n",
        "\n",
        "    # String concatenation\n",
        "    greeting = \"Hello, \" + name + \"!\"\n",
        "    print(greeting)\n",
        "\n",
        "    # String length\n",
        "    print(\"Length of name:\", len(name))\n",
        "\n",
        "    # String indexing\n",
        "    print(\"First character of name:\", name[0])\n",
        "\n",
        "    # String slicing\n",
        "    print(\"First 4 characters of name:\", name[:4])\n",
        "\n",
        "    # String methods\n",
        "    print(\"Uppercase name:\", name.upper())\n",
        "    print(\"Lowercase name:\", name.lower())\n",
        "\n",
        "if __name__ == \"__main__\":\n",
        "    main()"
      ],
      "metadata": {
        "id": "40zjuO09Tuoc",
        "outputId": "0318fb68-d15d-497a-f2b6-51533a14b836",
        "colab": {
          "base_uri": "https://localhost:8080/"
        }
      },
      "execution_count": 1,
      "outputs": [
        {
          "output_type": "stream",
          "name": "stdout",
          "text": [
            "Hello, John Doe!\n",
            "Length of name: 8\n",
            "First character of name: J\n",
            "First 4 characters of name: John\n",
            "Uppercase name: JOHN DOE\n",
            "Lowercase name: john doe\n"
          ]
        }
      ]
    }
  ]
}