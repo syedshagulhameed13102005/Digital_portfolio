{
  "nbformat": 4,
  "nbformat_minor": 0,
  "metadata": {
    "colab": {
      "provenance": [],
      "authorship_tag": "ABX9TyOxxdrCLWPcTj4MLVHbn5Mt",
      "include_colab_link": true
    },
    "kernelspec": {
      "name": "python3",
      "display_name": "Python 3"
    },
    "language_info": {
      "name": "python"
    }
  },
  "cells": [
    {
      "cell_type": "markdown",
      "metadata": {
        "id": "view-in-github",
        "colab_type": "text"
      },
      "source": [
        "<a href=\"https://colab.research.google.com/github/syedshagulhameed13102005/Digital_portfolio/blob/main/String.ipynb\" target=\"_parent\"><img src=\"https://colab.research.google.com/assets/colab-badge.svg\" alt=\"Open In Colab\"/></a>"
      ]
    },
    {
      "cell_type": "markdown",
      "source": [
        "Data types\n",
        "Integer"
      ],
      "metadata": {
        "id": "7Stb34xy-Zlo"
      }
    },
    {
      "cell_type": "code",
      "source": [
        "# Simple integer program: Add two numbers\n",
        "\n",
        "# Get input from user\n",
        "num1 = int(input(\"Enter first integer: \"))\n",
        "num2 = int(input(\"Enter second integer: \"))\n",
        "\n",
        "# Add the numbers\n",
        "sum = num1 + num2\n",
        "\n",
        "# Print the result\n",
        "print(\"The sum of\", num1, \"and\", num2, \"is\", sum)"
      ],
      "metadata": {
        "colab": {
          "base_uri": "https://localhost:8080/"
        },
        "id": "48ujxxtE_SHa",
        "outputId": "6db50c91-e097-4db2-eeca-14f2fc9d0ea5"
      },
      "execution_count": null,
      "outputs": [
        {
          "output_type": "stream",
          "name": "stdout",
          "text": [
            "Enter first integer: 2\n",
            "Enter second integer: 3\n",
            "The sum of 2 and 3 is 5\n"
          ]
        }
      ]
    },
    {
      "cell_type": "code",
      "source": [
        "\n",
        "# Get input from the user\n",
        "user_input = input(\"Enter a string: \")\n",
        "\n",
        "# Reverse the string\n",
        "reversed_string = user_input[::-1]\n",
        "\n",
        "# Display the result\n",
        "print(\"Reversed string:\", reversed_string)"
      ],
      "metadata": {
        "id": "MRIweGipGHcw",
        "outputId": "8bf7689f-fd62-498a-89ca-f831ec7ad6f3",
        "colab": {
          "base_uri": "https://localhost:8080/"
        }
      },
      "execution_count": 1,
      "outputs": [
        {
          "output_type": "stream",
          "name": "stdout",
          "text": [
            "Enter a string: Syed\n",
            "Reversed string: deyS\n"
          ]
        }
      ]
    }
  ]
}